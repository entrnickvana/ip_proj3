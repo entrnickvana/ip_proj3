{
 "cells": [
  {
   "cell_type": "code",
   "execution_count": 2,
   "id": "inappropriate-whole",
   "metadata": {},
   "outputs": [],
   "source": [
    "import code\n",
    "import os\n",
    "import skimage\n",
    "from skimage import io\n",
    "\n",
    "import matplotlib.pyplot as plt\n",
    "import numpy as np\n",
    "#from ip_functions import *\n",
    "from skimage import data, filters, color, morphology, exposure, img_as_float, img_as_ubyte, util\n",
    "from skimage.util import img_as_ubyte\n",
    "from skimage.segmentation import flood, flood_fill\n",
    "from skimage.morphology import extrema\n",
    "from skimage.exposure import histogram\n",
    "from cantor import *\n",
    "from sample_signals import *\n",
    "\n",
    "\n",
    "i0 = io.imread('cell_images/cell_images/0001.000.png')\n",
    "i1 = io.imread('cell_images/cell_images/0001.001.png')\n",
    "i2 = io.imread('cell_images/cell_images/0001.002.png')\n",
    "i4 = io.imread('cell_images/cell_images/0001.004.png')\n",
    "i5 = io.imread('cell_images/cell_images/0001.005.png')\n",
    "i6 = io.imread('cell_images/cell_images/0001.006.png')"
   ]
  },
  {
   "cell_type": "code",
   "execution_count": 3,
   "id": "informational-binding",
   "metadata": {},
   "outputs": [
    {
     "data": {
      "image/png": "[encoded data removed]",
      "text/plain": [
       "<Figure size 432x288 with 2 Axes>"
      ]
     },
     "metadata": {
      "needs_background": "light"
     },
     "output_type": "display_data"
    }
   ],
   "source": [
    "d1 = lo_p(128, 3)\n",
    "f1 = np.abs(np.fft.fft2(d1))\n",
    "\n",
    "plt.subplot(2,1,1)\n",
    "plt.imshow(d1, cmap='gray')\n",
    "plt.subplot(2,1,2)\n",
    "plt.imshow(f1, cmap='gray')\n",
    "plt.show()"
   ]
  },
  {
   "cell_type": "code",
   "execution_count": null,
   "id": "invalid-berlin",
   "metadata": {},
   "outputs": [],
   "source": []
  }
 ],
 "metadata": {
  "kernelspec": {
   "display_name": "Python 3",
   "language": "python",
   "name": "python3"
  },
  "language_info": {
   "codemirror_mode": {
    "name": "ipython",
    "version": 3
   },
   "file_extension": ".py",
   "mimetype": "text/x-python",
   "name": "python",
   "nbconvert_exporter": "python",
   "pygments_lexer": "ipython3",
   "version": "3.9.1"
  }
 },
 "nbformat": 4,
 "nbformat_minor": 5
}
